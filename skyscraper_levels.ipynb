{
 "cells": [
  {
   "cell_type": "markdown",
   "metadata": {},
   "source": [
    "# Anno 1800: Maximize population by adjusting skyscraper levels\n",
    "![Run all cells](imgs/run_all.png) ![Restart kernel](imgs/restart_kernel.png)"
   ]
  },
  {
   "cell_type": "code",
   "execution_count": null,
   "metadata": {
    "jupyter": {
     "source_hidden": true
    },
    "tags": []
   },
   "outputs": [],
   "source": [
    "import ipywidgets as widgets\n",
    "with open(\"imgs/loading-buffering.gif\", \"rb\") as f:\n",
    "    spinner = widgets.Image(\n",
    "        value=f.read(),\n",
    "        format='gif',\n",
    "        width=\"5%\",\n",
    "        margin=\"auto\"\n",
    "    )\n",
    "    spinner.layout.margin=\"0 0 0 47.5%\"\n",
    "    display(spinner)"
   ]
  },
  {
   "cell_type": "code",
   "execution_count": null,
   "metadata": {
    "jupyter": {
     "source_hidden": true
    },
    "tags": []
   },
   "outputs": [],
   "source": [
    "import importlib\n",
    "from IPython.display import clear_output\n",
    "\n",
    "if importlib.util.find_spec(\"pulp\") is None :\n",
    "    ! pip install --user pulp\n",
    "    clear_output(wait=True) \n",
    "    \n",
    "from pulp import *\n",
    "\n",
    "available_solvers = listSolvers(onlyAvailable=True)\n",
    "clear_output(wait=True) \n",
    "\n",
    "if \"GUROBI_CMD\" in available_solvers :\n",
    "    if importlib.util.find_spec(\"gurobipy\") is None :\n",
    "        ! pip install --user gurobipy\n",
    "        clear_output(wait=True)\n",
    "\n",
    "from tools.skyscraper_levels import *\n",
    "    \n",
    "try:\n",
    "    spinner.close()\n",
    "except:\n",
    "    pass\n",
    "\n",
    "clear_output(wait=True) \n",
    "ui = OptimizerGUI()"
   ]
  },
  {
   "cell_type": "code",
   "execution_count": null,
   "metadata": {
    "jupyter": {
     "source_hidden": true
    },
    "tags": []
   },
   "outputs": [],
   "source": [
    "if hasattr(ui, \"logs\"):\n",
    "    df = pd.DataFrame(ui.logs, columns=[\"Time\", \"Best Found\", \"Upper Bound\"])\n",
    "    display(df.plot(kind=\"scatter\", x=[\"Time\",\"Time\"], y=[\"Best Found\", \"Upper Bound\"], s=5,\n",
    "                    #remove '#' in front of ylim and change limits to zoom in\n",
    "                    #ylim=(600000,650000),\n",
    "                    #xlim=(0,600)\n",
    "                   ))"
   ]
  }
 ],
 "metadata": {
  "kernelspec": {
   "display_name": "Python 3 (ipykernel)",
   "language": "python",
   "name": "python3"
  },
  "language_info": {
   "codemirror_mode": {
    "name": "ipython",
    "version": 3
   },
   "file_extension": ".py",
   "mimetype": "text/x-python",
   "name": "python",
   "nbconvert_exporter": "python",
   "pygments_lexer": "ipython3",
   "version": "3.12.2"
  }
 },
 "nbformat": 4,
 "nbformat_minor": 4
}
